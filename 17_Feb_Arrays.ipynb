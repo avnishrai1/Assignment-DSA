{
 "cells": [
  {
   "cell_type": "markdown",
   "id": "e56876a0-be70-4626-aad7-bdd71bad00eb",
   "metadata": {},
   "source": [
    "# 1. Given an array, check if it contains any duplicates or not.\n",
    "## arr = [1, 2, 4, 2, 5, 9]\n",
    "## Output = True"
   ]
  },
  {
   "cell_type": "code",
   "execution_count": 2,
   "id": "4123c1b0-03e1-49e4-ba09-0d191406e7f6",
   "metadata": {},
   "outputs": [
    {
     "name": "stdout",
     "output_type": "stream",
     "text": [
      "True\n"
     ]
    }
   ],
   "source": [
    "def duplicates_arr(arr) :                           # Function to check if the array contains duplicates\n",
    "    if (len(arr) != len(set(arr))):                 # Convert the array to a set to remove duplicates\n",
    "        return True                                 \n",
    "    \n",
    "arr = [1,2,4,2,5,9]\n",
    "result = duplicates_arr(arr)\n",
    "print(result)"
   ]
  },
  {
   "cell_type": "markdown",
   "id": "54071f99-b29e-4f8d-a38d-46db8a8c3778",
   "metadata": {},
   "source": [
    "# 2. Given an array and an integer k, rotate the array to the right by k steps.\n",
    "## arr = [1, 2, 3, 4, 5, 6, 7] k = 3\n",
    "## Output = [5, 6, 7, 1, 2, 3, 4]"
   ]
  },
  {
   "cell_type": "code",
   "execution_count": 5,
   "id": "4af72693-f97c-42a9-b695-8f6f69d46d1a",
   "metadata": {},
   "outputs": [
    {
     "name": "stdout",
     "output_type": "stream",
     "text": [
      "[5, 6, 7, 1, 2, 3, 4]\n"
     ]
    }
   ],
   "source": [
    "arr = [1, 2, 3, 4, 5, 6, 7]\n",
    "k = 3\n",
    "\n",
    "def rotate_array(arr, k):\n",
    "\n",
    "    # Rotate the array using slicing\n",
    "    rotated_arr = arr[-k:] + arr[:-k]\n",
    "    \n",
    "    return rotated_arr\n",
    "\n",
    "# Rotate the array and store the result in 'output'\n",
    "output = rotate_array(arr, k)\n",
    "\n",
    "# Print the result\n",
    "print(output)\n"
   ]
  },
  {
   "cell_type": "markdown",
   "id": "a04daa16-af3e-404d-9910-97309c81659e",
   "metadata": {},
   "source": [
    "# 3. Reverse the given array in-place, means without using any extra data structure.\n",
    "## arr = [2, 4, 5, 7, 9, 12]\n",
    "## Output = [12, 9, 7, 5, 4, 2]"
   ]
  },
  {
   "cell_type": "code",
   "execution_count": 6,
   "id": "4e18e804-b8fc-4ad8-b05d-2e22b126dd3a",
   "metadata": {},
   "outputs": [
    {
     "name": "stdout",
     "output_type": "stream",
     "text": [
      "[12, 9, 7, 5, 4, 2]\n"
     ]
    }
   ],
   "source": [
    "arr = [2, 4, 5, 7, 9, 12]\n",
    "\n",
    "def reverse_array_in_place(arr):\n",
    "    start, end = 0, len(arr) - 1\n",
    "    \n",
    "    while start < end:\n",
    "        # Swap elements at the start and end indices\n",
    "        arr[start], arr[end] = arr[end], arr[start]\n",
    "        \n",
    "        # Move indices towards the center\n",
    "        start = start + 1\n",
    "        end = end - 1\n",
    "\n",
    "# Reverse the array in-place\n",
    "reverse_array_in_place(arr)\n",
    "\n",
    "# Print the result\n",
    "print(arr)"
   ]
  },
  {
   "cell_type": "markdown",
   "id": "924be880-e29d-4e51-a1ad-bb5129a0c281",
   "metadata": {},
   "source": [
    "## 4. Given an array of integers, find the maximum element in an array\n",
    "### arr = [10, 5, 20, 8, 15]\n",
    "### Output = 20"
   ]
  },
  {
   "cell_type": "code",
   "execution_count": 9,
   "id": "5ac9ab25-a77d-4f9e-be59-129aee27b423",
   "metadata": {},
   "outputs": [
    {
     "name": "stdout",
     "output_type": "stream",
     "text": [
      "20\n"
     ]
    }
   ],
   "source": [
    "def findmax(arr):\n",
    "    \n",
    "    # Initialize the maximum element with the first element of the array\n",
    "    max_element = arr[0]\n",
    "\n",
    "    # Iterate through the array to find the maximum element\n",
    "    for num in arr:\n",
    "        if num > max_element:\n",
    "            max_element = num\n",
    "\n",
    "    return max_element\n",
    "\n",
    "\n",
    "arr = [10, 5, 20, 8, 15]\n",
    "result = findmax(arr)\n",
    "\n",
    "# Print the result\n",
    "print(result)"
   ]
  },
  {
   "cell_type": "markdown",
   "id": "883c1d93-dda1-4892-b5b1-67650417a64a",
   "metadata": {},
   "source": [
    "### 5. Given a sorted array, remove the duplicate element without using any extra data structure.\n",
    "#### arr = [1, 1, 2, 2, 2, 3, 3, 4, 4, 4, 5, 5]\n",
    "#### Output = [1, 2, 3, 4, 5]"
   ]
  },
  {
   "cell_type": "code",
   "execution_count": 11,
   "id": "eb3c8202-69ec-45f1-96c1-3f4158c8209e",
   "metadata": {},
   "outputs": [
    {
     "name": "stdout",
     "output_type": "stream",
     "text": [
      "[1, 2, 3, 4, 5]\n"
     ]
    }
   ],
   "source": [
    "def remove_duplicates(arr):\n",
    "    # Check if the array is empty or has only one element\n",
    "    if len(arr) <= 1:\n",
    "        return arr\n",
    "\n",
    "    unique = set()                            # Initialize an empty set to track unique elements\n",
    "\n",
    "    result = []\n",
    "\n",
    "    for num in arr:                           # Iterate through the array\n",
    "        if num not in unique:        # If the element is not in the set, add it to the set and result list\n",
    "            unique.add(num)\n",
    "            result.append(num)\n",
    "\n",
    "    return result\n",
    "\n",
    "arr = [1, 1, 2, 2, 2, 3, 3, 4, 4, 4, 5, 5]\n",
    "result = remove_duplicates(arr)\n",
    "\n",
    "# Print the result\n",
    "print(result)"
   ]
  },
  {
   "cell_type": "code",
   "execution_count": null,
   "id": "4a4700e9-dc31-4966-9dbb-a9ccbbd86abe",
   "metadata": {},
   "outputs": [],
   "source": []
  }
 ],
 "metadata": {
  "kernelspec": {
   "display_name": "Python 3 (ipykernel)",
   "language": "python",
   "name": "python3"
  },
  "language_info": {
   "codemirror_mode": {
    "name": "ipython",
    "version": 3
   },
   "file_extension": ".py",
   "mimetype": "text/x-python",
   "name": "python",
   "nbconvert_exporter": "python",
   "pygments_lexer": "ipython3",
   "version": "3.10.8"
  }
 },
 "nbformat": 4,
 "nbformat_minor": 5
}
